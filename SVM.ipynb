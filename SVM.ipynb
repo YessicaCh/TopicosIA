{
 "cells": [
  {
   "cell_type": "code",
   "execution_count": 1,
   "metadata": {},
   "outputs": [],
   "source": [
    "import pandas as pd\n",
    "import numpy as np\n",
    "import random \n",
    "import matplotlib.pyplot as plt\n",
    "\n",
    "from sklearn import svm\n",
    "\n",
    "dataset = [\"titanic_train\",\"iris\"]"
   ]
  },
  {
   "cell_type": "code",
   "execution_count": 2,
   "metadata": {},
   "outputs": [],
   "source": [
    "def LeerDatos(filename : str, separa : str, header = True):\n",
    "    if (header):\n",
    "        data = pd.read_csv(filename + \".csv\", sep =separa, header = 0)\n",
    "    else:\n",
    "        data = pd.read_csv(filename+ \".csv\", sep = separa, header = None)\n",
    "    return data.to_numpy()"
   ]
  },
  {
   "cell_type": "code",
   "execution_count": 3,
   "metadata": {},
   "outputs": [],
   "source": [
    "def Normalizar_Datos(data : np.array):\n",
    "    #normal = np.empty_like(data)\n",
    "    for i in range (0,np.size(data[0])):\n",
    "        media = np.mean(data[:,i])\n",
    "        desvi =np.std(data[:,i])\n",
    "        data[:,i] = (data[:,i] - media)/desvi\n",
    "    return data"
   ]
  },
  {
   "cell_type": "code",
   "execution_count": 4,
   "metadata": {},
   "outputs": [],
   "source": [
    "def Crear_k_folds(data : np.array , k:int, clases: []):\n",
    "    folds = []\n",
    "    tot_clase = []\n",
    "    prop_clase = [] #Acumulado de indices\n",
    "    pre_fold = []\n",
    "\n",
    "    m = np.size(data[:,-1]) #numero de datos\n",
    "    #n = np.size(data[0])\n",
    "    for i in clases:\n",
    "        tot_clase.append(np.count_nonzero( data[:,-1] == i))\n",
    "\n",
    "    prop_clase.append(tot_clase[0])\n",
    "    for i in range (1, len(tot_clase)):\n",
    "        prop_clase.append( prop_clase[i-1] + tot_clase[i])\n",
    "\n",
    "    pos_ini = 0\n",
    "    for i in range(0, len(clases)):\n",
    "        pre_fold.append(np.array_split(data[pos_ini:prop_clase[i]], k))\n",
    "        pos_ini = prop_clase[i]\n",
    "    \n",
    "    for i in range (0,k):\n",
    "        temp = np.empty( (0,np.size(data[0])) )\n",
    "        for j in range(0,len(clases)):\n",
    "            temp = np.vstack( (temp,pre_fold[j][i]))\n",
    "        folds.append(temp)\n",
    "            \n",
    "    return folds"
   ]
  },
  {
   "cell_type": "code",
   "execution_count": 5,
   "metadata": {},
   "outputs": [],
   "source": [
    "def TransformacionClases(y:np.array, clases:[]):\n",
    "    num_clases = len(clases)\n",
    "    #vec_clases = np.empty((0), dtype = int)\n",
    "    vec_clases = []\n",
    "    for i in y:\n",
    "        idx = clases.index(i)\n",
    "        vec_clases.append(idx)\n",
    "    return vec_clases"
   ]
  },
  {
   "cell_type": "code",
   "execution_count": 6,
   "metadata": {},
   "outputs": [],
   "source": [
    "def Calcular_Accuracy(X:np.array, y:np.array, model):\n",
    "    y_calc = model.predict(X)\n",
    "    \n",
    "    aciertos = 0\n",
    "    for i in range(0, len(y)):\n",
    "        if (y[i] == y_calc[i]):\n",
    "            aciertos += 1\n",
    "    return aciertos/len(y)\n",
    "    \n",
    "def PromedioAccuracy(test:np.array, model, k, clases):\n",
    "    accu = np.zeros(k)\n",
    "    for i in range(0,k):\n",
    "        X_test = test[i][:,:-1]\n",
    "        y_test = TransformacionClases(test[i][:,-1], clases)\n",
    "        accu[i] = Calcular_Accuracy(X_test, y_test, model)\n",
    "    return accu.mean()"
   ]
  },
  {
   "cell_type": "code",
   "execution_count": 7,
   "metadata": {},
   "outputs": [],
   "source": [
    "def CalculoParametrosSVM(folds:[], k:int, C:float, kernel:str , clases:[]):\n",
    "    arr_costo = []\n",
    "    arr_theta = []\n",
    "    arr_test = []\n",
    "    for test_i in range(0, k):\n",
    "        test = folds[test_i] \n",
    "        train = np.zeros( (0,np.size(folds[0][0])) )\n",
    "        for train_i in range (0, k):         \n",
    "            if (train_i == test_i):\n",
    "                continue\n",
    "            else:\n",
    "                train = np.vstack( (train,folds[train_i]) )\n",
    "            \n",
    "        #costo = []\n",
    "        X_train = train[:,:-1]\n",
    "        #X_train = X_train.astype('float64')\n",
    "        #X_train = Normalizar_Datos(X_train)\n",
    "\n",
    "        y_train = TransformacionClases( train[:,-1], clases)\n",
    "        \n",
    "        model = svm.SVC(kernel = kernel, C=C, degree=2)\n",
    "        model.fit(X_train, y_train)\n",
    "        arr_test.append(test)\n",
    "      \n",
    "    return model, arr_test"
   ]
  },
  {
   "cell_type": "code",
   "execution_count": null,
   "metadata": {},
   "outputs": [],
   "source": []
  },
  {
   "cell_type": "code",
   "execution_count": 8,
   "metadata": {},
   "outputs": [],
   "source": [
    "#EXPERIMENTO 3\n",
    "#1.1 TITANIC "
   ]
  },
  {
   "cell_type": "code",
   "execution_count": 21,
   "metadata": {},
   "outputs": [
    {
     "name": "stdout",
     "output_type": "stream",
     "text": [
      "Dataset TITANIC\n",
      "             2.0       2.5       3.0       3.5       4.0       4.5       5.0\n",
      "linear  0.780898  0.776708  0.764091  0.755652  0.748632  0.743006  0.738787\n",
      "poly    0.624999  0.634838  0.632037  0.633443  0.639051  0.641864  0.644677\n",
      "rbf     0.540439  0.541845  0.541845  0.544664  0.544658  0.546065  0.547471\n"
     ]
    }
   ],
   "source": [
    "#Leer solo los datos necesarios\n",
    "titanic = LeerDatos(dataset[0],',')\n",
    "titanic_train = np.c_[titanic[:,0:2],titanic[:,4:6],titanic[:,-3:-2],titanic[:,-1:]]\n",
    "\n",
    "#quitamos los datos nulos\n",
    "titanic_train = pd.DataFrame(titanic_train).dropna()\n",
    "titanic_train = titanic_train.sort_values(titanic_train.columns[1])\n",
    "\n",
    "#dividimos para normalizar \n",
    "ids  = titanic_train.to_numpy()[:,0:1]\n",
    "survived  = titanic_train.to_numpy()[:,1:2]\n",
    "sex  = titanic_train.to_numpy()[:,2:3]\n",
    "age  = titanic_train.to_numpy()[:,3:4]\n",
    "fare = titanic_train.to_numpy()[:,4:5]\n",
    "embarked = titanic_train.to_numpy()[:,5:]\n",
    "\n",
    "#reemplazamos female/male por 1/0\n",
    "sex = pd.DataFrame(sex).replace({\"male\": 0, \"female\": 1})\n",
    "#reemplazamos Q/S/C por 1/2/3\n",
    "embarked = pd.DataFrame(embarked).replace({\"Q\": 1, \"S\": 2, \"C\": 3})\n",
    "\n",
    "#juntamos la data\n",
    "titanic_train_ = np.array(np.c_[ids,sex,age,fare,embarked,survived]) #id,survived,sex,age,fare,embarked \n",
    "\n",
    "#clase y num_clases \n",
    "clases = [0,1]\n",
    "num_clases = len(clases);\n",
    "\n",
    "#k folds \n",
    "k = 3\n",
    "\n",
    "#creamos los folds\n",
    "fold_titanic = Crear_k_folds(titanic_train_,k,clases)\n",
    "\n",
    "#Kernels\n",
    "kernels = ['linear', 'poly', 'rbf']\n",
    "coef = np.arange(2.0,5.1,0.5)\n",
    "Matriz_accurracy_prom = np.empty( (len(kernels),len(coef) ))\n",
    "\n",
    "print(\"Dataset TITANIC\")\n",
    "for ker in range(0,len(kernels)):\n",
    "    for C in range(0, len(coef)):\n",
    "        model, test = CalculoParametrosSVM(fold_titanic, k, coef[C], kernels[ker], clases)\n",
    "        Matriz_accurracy_prom[ker,C] = PromedioAccuracy(test, model, k, clases)\n",
    "print(pd.DataFrame(Matriz_accurracy_prom, index = kernels, columns = coef))"
   ]
  },
  {
   "cell_type": "code",
   "execution_count": 9,
   "metadata": {},
   "outputs": [
    {
     "name": "stdout",
     "output_type": "stream",
     "text": [
      "Dataset - Especie de flores\n",
      "             2.0       2.5       3.0       3.5       4.0       4.5       5.0\n",
      "linear  0.979575  0.979575  0.973039  0.973039  0.973039  0.973039  0.973039\n",
      "poly    0.986520  0.986520  0.986520  0.979575  0.979575  0.979575  0.973039\n",
      "rbf     0.973725  0.986928  0.993464  0.993464  0.993464  0.993464  0.993464\n"
     ]
    }
   ],
   "source": [
    "#1.2 ESPECIES DE FLORES(IRIS Setosa -Iris versicolor- Iris virginica) \n",
    "#Dataset contiene 5 columnas 1-Longitud del sépalo en centímetros. 2-Ancho del sépalo en centímetros.\n",
    "#3-Longitud del pétalo en centímetros. 4-Ancho del pétalo en centímetros.\n",
    "#5-Clase.\n",
    "# url https://unipython.com/clasificacion-multiclase-de-especies-de-flores/\n",
    "\n",
    "#iris = LeerDatos(dataset[0], separa = ',')\n",
    "#clases = [\"Setosa\", \"Versicolor\", \"Virginica\"]\n",
    "#iris_folds = Crear_k_folds(iris, 3, clases)\n",
    "#theta, arr_costo, arr_test = CalculoParametros(iris_folds, 3, 500, 0.1, 3, 3, 20, clases)\n",
    "especie_flores = LeerDatos(dataset[1], separa = ',')\n",
    "#quitamos los datos nulos ordenamos por clase \n",
    "especie_flores = pd.DataFrame(especie_flores).dropna()\n",
    "especie_flores = especie_flores.sort_values(especie_flores.columns[-1])\n",
    "\n",
    "aux = especie_flores.to_numpy()[:,0:4]\n",
    "clase  = especie_flores.to_numpy()[:,4:]\n",
    "\n",
    "clase = pd.DataFrame(clase).replace({\"Iris-setosa\": 1, \"Iris-versicolor\": 2, \"Iris-virginica\": 3})\n",
    "\n",
    "\n",
    "#juntamos la data\n",
    "especie_flores = np.array(np.c_[aux,clase]) #id,survived,sex,age,fare,embarked \n",
    "\n",
    "#clase y num_clases \n",
    "clases = [1,2,3]\n",
    "num_clases = len(clases);\n",
    "\n",
    "#k folds \n",
    "k = 3\n",
    "\n",
    "#creamos los folds\n",
    "fold_iris = Crear_k_folds(especie_flores,k,clases)\n",
    "\n",
    "#Kernels\n",
    "kernels = ['linear', 'poly', 'rbf']\n",
    "#C\n",
    "coef = np.arange(2.0,5.1,0.5)\n",
    "\n",
    "Matriz_accurracy_prom = np.empty( (len(kernels),len(coef) ))\n",
    "\n",
    "print(\"Dataset - Especie de flores\")\n",
    "for ker in range(0,len(kernels)):\n",
    "    for C in range(0, len(coef)):\n",
    "        model, test = CalculoParametrosSVM(fold_iris, k, coef[C], kernels[ker], clases)\n",
    "        Matriz_accurracy_prom[ker,C] = PromedioAccuracy(test, model, k, clases)\n",
    "print(pd.DataFrame(Matriz_accurracy_prom, index = kernels, columns = coef))\n"
   ]
  },
  {
   "cell_type": "code",
   "execution_count": null,
   "metadata": {},
   "outputs": [],
   "source": []
  },
  {
   "cell_type": "code",
   "execution_count": null,
   "metadata": {},
   "outputs": [],
   "source": []
  }
 ],
 "metadata": {
  "kernelspec": {
   "display_name": "Python 3",
   "language": "python",
   "name": "python3"
  },
  "language_info": {
   "codemirror_mode": {
    "name": "ipython",
    "version": 3
   },
   "file_extension": ".py",
   "mimetype": "text/x-python",
   "name": "python",
   "nbconvert_exporter": "python",
   "pygments_lexer": "ipython3",
   "version": "3.8.3"
  }
 },
 "nbformat": 4,
 "nbformat_minor": 4
}
